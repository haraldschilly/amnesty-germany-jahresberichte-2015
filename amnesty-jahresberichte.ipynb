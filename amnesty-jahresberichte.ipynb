{
 "cells": [
  {
   "cell_type": "markdown",
   "metadata": {},
   "source": [
    "# Amnesty International Deutschland: Jahresberichte 2015\n",
    "\n",
    "The following steps download and extract all the Jahresberichte for the year 2015.\n",
    "\n",
    "It runs in Python 3, and uses the `requests` and `bs4` (`$ conda install beautiful-soup`) libraries."
   ]
  },
  {
   "cell_type": "markdown",
   "metadata": {},
   "source": [
    "## Step 1: Index page has 4 pages of up to 50 links each:"
   ]
  },
  {
   "cell_type": "code",
   "execution_count": 3,
   "metadata": {
    "collapsed": true
   },
   "outputs": [],
   "source": [
    "import bs4\n",
    "import requests"
   ]
  },
  {
   "cell_type": "code",
   "execution_count": 4,
   "metadata": {
    "collapsed": false
   },
   "outputs": [],
   "source": [
    "jbindexurl = lambda page: \"http://www.amnesty.de/laenderbericht/australien?page=%d&country=&topic=&node_type=ai_annual_report&from_month=0&from_year=&to_month=0&to_year=&submit_x=103&submit_y=13&submit=Auswahl+anzeigen&result_limit=50&form_id=ai_core_search_form\" % page\n",
    "jbindices = [bs4.BeautifulSoup(requests.get(jbindexurl(i)).text) for i in range(4)]"
   ]
  },
  {
   "cell_type": "markdown",
   "metadata": {},
   "source": [
    "## Step 2: downloading each linked HTML page\n",
    "\n",
    "For those 4 index pages, download all linked pages where the link itself matches the given RegEx."
   ]
  },
  {
   "cell_type": "code",
   "execution_count": 5,
   "metadata": {
    "collapsed": true
   },
   "outputs": [],
   "source": [
    "import re\n",
    "ar2015 = re.compile(\"Amnesty Report 2015\")"
   ]
  },
  {
   "cell_type": "code",
   "execution_count": 6,
   "metadata": {
    "collapsed": false
   },
   "outputs": [
    {
     "name": "stdout",
     "output_type": "stream",
     "text": [
      "Argentinien, Ägypten, Peru, Kambodscha, Kanada, Kuwait, Österreich, Algerien, Panama, Papua-Neuguinea, Nigeria, Simbabwe, Zentralafrikanische Republik, Saudi-Arabien, Malediven, Tadschikistan, Estland, Trinidad und Tobago, Kirgisistan, Burkina Faso, Tschad, Guinea, Irak, Tschechien, Suriname, Honduras, Thailand, Mali, Taiwan, Turkmenistan, Niederlande, Georgien, Vietnam, Kamerun, Serbien (einschließlich Kosovo), Norwegen, Neuseeland, Burundi, Chile, Mauretanien, Portugal, Tunesien, Oman, Libanon, Angola, Belgien, Palästina, Haiti, Gambia, Australien, Brunei Darussalam, Deutschland, Libyen, China, Lettland, Philippinen, Großbritannien und Nordirland, Usbekistan, Belarus, Israel und besetzte palästinensische Gebiete, Guyana, Kenia, Afghanistan, Montenegro, Bolivien, Südafrika, Nepal, Malta, Ghana, Bosnien und Herzegowina, Vereinigte Staaten von Amerika, Kongo (Demokratische Republik), Mazedonien, Dominikanische Republik, Russische Föderation, Sierra Leone, Dänemark, Spanien, Ukraine, Irland, Aserbaidschan, Zypern, Bulgarien, Mosambik, Timor-Leste, Slowakei, Guatemala, Polen, Ecuador, Mongolei, Puerto Rico, Albanien, Kuba, Mexiko, Äquatorialguinea, Katar, Guinea-Bissau, Bahrain, Pakistan, Moldau, Singapur, Laos, Türkei, Côte d'Ivoire, Armenien, Togo, Venezuela, Litauen, Kasachstan, Iran, Uganda, Schweden, Nicaragua, Indien, Swasiland, Südsudan, Rumänien, Italien, Frankreich, Brasilien, Sri Lanka, Somalia, Malawi, El Salvador, Eritrea, Griechenland, Tansania, Nauru, Myanmar, Jamaika, Finnland, Jemen, Korea (Süd), Bahamas, Kroatien, Syrien, Ungarn, Marokko und Westsahara, Jordanien, Korea (Nord), Kongo (Republik), Benin, Malaysia, Sudan, Namibia, Kolumbien, Senegal, Japan, Sambia, Indonesien, Niger, Uruguay, Slowenien, Paraguay, Fidschi, Vereinigte Arabische Emirate, Ruanda, Bangladesch, Äthiopien, "
     ]
    }
   ],
   "source": [
    "reports = {}\n",
    "for jbindex in jbindices:\n",
    "    a_reports = jbindex.find_all(\"a\", text=ar2015)\n",
    "    for a in a_reports:\n",
    "        country = ' '.join(a.contents[0].split()[3:])\n",
    "        reports[country] = requests.get(\"http://www.amnesty.de\" + a.get(\"href\")).text\n",
    "        print(country, end=\", \")"
   ]
  },
  {
   "cell_type": "markdown",
   "metadata": {},
   "source": [
    "## Step 3: HTML template and write to HTML file\n",
    "\n",
    "Only the actual HTML of the report is written to a small HTML file. It's the parent of the parent of the `<h3>` header \"Amnesty Report 2015\" … and it also removes the remaining link-bar at the top."
   ]
  },
  {
   "cell_type": "code",
   "execution_count": 7,
   "metadata": {
    "collapsed": true
   },
   "outputs": [],
   "source": [
    "TMPL = \"\"\"\\\n",
    "<!DOCTYPE html>\n",
    "<html>\n",
    "<head>\n",
    "<title>Amnesty Report 2015 {country}</title>\n",
    "</head>\n",
    "<body>\n",
    "{content}\n",
    "</body>\n",
    "</html>\n",
    "\"\"\""
   ]
  },
  {
   "cell_type": "code",
   "execution_count": 8,
   "metadata": {
    "collapsed": false
   },
   "outputs": [],
   "source": [
    "from codecs import open\n",
    "\n",
    "for country, report in reports.items():\n",
    "    bs = bs4.BeautifulSoup(report)\n",
    "    h3 = bs.find(\"h3\", text=ar2015)\n",
    "    \n",
    "    # parent of parent contains the main content\n",
    "    content = h3.parent.parent\n",
    "    \n",
    "    # we don't want this top bar (extract removes it from the DOM)\n",
    "    content.find(\"ul\", class_ = \"ai_core_service_bar\").extract()\n",
    "    \n",
    "    # writing to html file\n",
    "    with open(country.lower().replace(\" \", \"_\") + \".html\", \"w\", \"utf8\") as f:\n",
    "        f.write(TMPL.format(country = country, content = str(content)))"
   ]
  },
  {
   "cell_type": "code",
   "execution_count": null,
   "metadata": {
    "collapsed": true
   },
   "outputs": [],
   "source": []
  }
 ],
 "metadata": {
  "kernelspec": {
   "display_name": "Python 3",
   "language": "python",
   "name": "python3"
  },
  "language_info": {
   "codemirror_mode": {
    "name": "ipython",
    "version": 3
   },
   "file_extension": ".py",
   "mimetype": "text/x-python",
   "name": "python",
   "nbconvert_exporter": "python",
   "pygments_lexer": "ipython3",
   "version": "3.4.3"
  }
 },
 "nbformat": 4,
 "nbformat_minor": 0
}
